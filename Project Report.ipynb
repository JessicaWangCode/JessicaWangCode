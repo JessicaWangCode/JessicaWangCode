{
 "cells": [
  {
   "cell_type": "markdown",
   "id": "d467d1aa",
   "metadata": {},
   "source": [
    "We use three simulation methods to predict COVID-19 trend in UK, including machine learning, theoretical simulation and iteration simulation, then compare these methods with real data to figure out the best simulation method.You can use the main program to choose either watching a single visual result from one simulation method including animation or a comparison diagram with real data.\n",
    "\n",
    "The first simulation method is machine learning. Linear regression model and support vector machine model are used in COVID-19 trend prediction.Training data is downloaded from UK government website. When watching single visual result, in sample prediction is presented with an output diagram in comparison of test data and a mean quare error number.It is flexible to choose data you want to predict such as cumulative infected number, cumulative death number or new cases everyday by simply changing the index name.\n"
   ]
  },
  {
   "cell_type": "markdown",
   "id": "9f502d70",
   "metadata": {},
   "source": [
    "<table>\n",
    "    <tr>\n",
    "        <td ><center><img src=\"https://raw.githubusercontent.com/JessicaWangCode/Collaborate/main/image/SVM1.png?token=GHSAT0AAAAAABSYUDFKKOVTSLEHQD6LZ6CMYTTXHMA\" >SVM Cumulative death </center></td>\n",
    "        <td ><center><img src=\"https://raw.githubusercontent.com/JessicaWangCode/Collaborate/main/image/SVM2.png?token=GHSAT0AAAAAABSYUDFKDKUCOXPMQLNYQGZWYTTXIDA\"  >SVM Cumulative cases</center></td>\n",
    "    </tr>\n",
    "<table>\n",
    "    <tr>\n",
    "        <td ><center><img src=\"https://raw.githubusercontent.com/JessicaWangCode/Collaborate/main/image/LR1.png?token=GHSAT0AAAAAABSYUDFLPOMNXTQEWHODDOXSYTTXFCQ\" >LR Cumulative death </center></td>\n",
    "        <td ><center><img src=\"https://raw.githubusercontent.com/JessicaWangCode/Collaborate/main/image/LR2.png?token=GHSAT0AAAAAABSYUDFLUR3QJF3G7Z2JQTUSYTTXG6Q\"  >LR Cumulative cases</center></td>\n",
    "    </tr>\n"
   ]
  },
  {
   "cell_type": "markdown",
   "id": "db77f058",
   "metadata": {},
   "source": [
    "while out of sample prediction is presented to compare with other simulation methods and real data."
   ]
  },
  {
   "cell_type": "markdown",
   "id": "bb86d1ad",
   "metadata": {},
   "source": [
    "Reference\n",
    "https://coronavirus.data.gov.uk/details/interactive-map/cases"
   ]
  },
  {
   "cell_type": "markdown",
   "id": "51a1fcc1",
   "metadata": {},
   "source": [
    "# (Header 1, title)\n",
    "## Header 2, major headings\n",
    "### In sample Prediction\n"
   ]
  },
  {
   "cell_type": "code",
   "execution_count": null,
   "id": "3c212ad9",
   "metadata": {},
   "outputs": [],
   "source": []
  }
 ],
 "metadata": {
  "kernelspec": {
   "display_name": "Python 3",
   "language": "python",
   "name": "python3"
  },
  "language_info": {
   "codemirror_mode": {
    "name": "ipython",
    "version": 3
   },
   "file_extension": ".py",
   "mimetype": "text/x-python",
   "name": "python",
   "nbconvert_exporter": "python",
   "pygments_lexer": "ipython3",
   "version": "3.8.8"
  }
 },
 "nbformat": 4,
 "nbformat_minor": 5
}
